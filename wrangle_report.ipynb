{
 "cells": [
  {
   "cell_type": "markdown",
   "id": "42a14256-91c8-446e-92a7-ab6bf11055d3",
   "metadata": {},
   "source": [
    "# **Wrangling Report**"
   ]
  },
  {
   "cell_type": "markdown",
   "id": "d18ee6d7",
   "metadata": {},
   "source": [
    "This report summarizes data wrangling efforts done to enable the\n",
    "analysis of WeRateDogs Twitter data. It involved data collection from\n",
    "multiple sources, assessment of quality and tidiness, and cleaning for\n",
    "analysis."
   ]
  },
  {
   "cell_type": "markdown",
   "id": "66a01196",
   "metadata": {},
   "source": [
    "### **Gathering**  \n",
    "Three datasets were retrieved:\n",
    "\n",
    "**Twitter archive**: This was provided as a CSV file.\n",
    "\n",
    "**Image Predictions**: Downloaded from URL using the requests library\n",
    "\n",
    "**Extra tweet data (favorites count,retweet count)**: Gathered using the Twitter API.\n"
   ]
  },
  {
   "cell_type": "markdown",
   "id": "a55d9103",
   "metadata": {},
   "source": [
    "### **Assess**  \n",
    "Visual and programmatic assessments were done on each dataset. Some of\n",
    "the key problems identified are as follows:  \n",
    "**Twitter Archive**:  \n",
    "\n",
    "The \"name\" column contains incorrect values.\n",
    "\n",
    "The dog stage information is spread out over several columns.\n",
    "\n",
    "The \"source\" column is incorrectly formatted. \n",
    "\n",
    "The presences of not just the original ratings only - but also the\n",
    "retweets and replies for each tweet.  \n",
    "\n",
    "The rating numerator and rating denominator values columns contain\n",
    "outliers.\n",
    "\n",
    "Wrong data type for some columns.\n",
    "\n",
    "**Image_predictions**\n",
    "\n",
    "Prediction columns having inconsistent capitalization.\n",
    "\n",
    "Prediction values having inconsistent delimiters.  \n",
    "\n",
    "Wrong data type for tweet_id column.\n",
    "\n",
    "**Tweet Data**\n",
    "\n",
    "Wrong data type for tweet_id column\n"
   ]
  },
  {
   "cell_type": "markdown",
   "id": "c3ca3ee7",
   "metadata": {},
   "source": [
    "### **Cleaning**  \n",
    "The following cleaning steps were done :  \n",
    "**Twitter Archive**\n",
    "\n",
    "* Filtered out Retweets and Replies - Quality issue\n",
    "\n",
    "* Validated names: replaced 'None' with 'No Name' - Quality issue\n",
    "\n",
    "* Merged columns of dog stage into one column called 'stage' - Tidiness issue\n",
    "\n",
    "* Reduced categories in column 'source' - Quality issue\n",
    "\n",
    "* Used IQR method to remove outliers from rating columns - Quality issue\n",
    "\n",
    "* Converted column 'timestamp' to datetime and 'tweet_id' to string - Quality issue\n",
    "\n",
    "* Added a column that represents rating ratio - Tidiness issue\n",
    "\n",
    "**Image Predictions**\n",
    "\n",
    "* Filtered to contain the same tweets as the cleaned archive - Quality issue\n",
    "\n",
    "* Standardized capitalization of prediction columns - Quality issue\n",
    "\n",
    "* Standardized delimiters for prediction values - Quality issue\n",
    "\n",
    "* Converted column 'tweet_id' to string - Quality issue\n",
    "\n",
    "**Tweet Data**\n",
    "\n",
    "* Filtered to retain only tweets that have a match in the cleaned archive - Quality issue\n",
    "\n",
    "* Converted 'tweet_id' to string - Quality issue"
   ]
  },
  {
   "cell_type": "markdown",
   "id": "2c8dc633",
   "metadata": {},
   "source": [
    "### **Data Storage**\n",
    "\n",
    "The 3 cleaned data sets were combined into one master dataset which was\n",
    "stored as 'twitter_archive_master.csv'."
   ]
  },
  {
   "cell_type": "markdown",
   "id": "f05a4ede",
   "metadata": {},
   "source": [
    "### **Conclusion**\n",
    "The data wrangling process addressed quality and\n",
    "tidiness issues in the datasets; now they are ready for meaningful\n",
    "analyses.\n",
    "\n",
    "This report summarizes the data wrangling efforts."
   ]
  }
 ],
 "metadata": {
  "kernelspec": {
   "display_name": "Python 3 (ipykernel)",
   "language": "python",
   "name": "python3"
  },
  "language_info": {
   "codemirror_mode": {
    "name": "ipython",
    "version": 3
   },
   "file_extension": ".py",
   "mimetype": "text/x-python",
   "name": "python",
   "nbconvert_exporter": "python",
   "pygments_lexer": "ipython3",
   "version": "3.9.7"
  }
 },
 "nbformat": 4,
 "nbformat_minor": 5
}
